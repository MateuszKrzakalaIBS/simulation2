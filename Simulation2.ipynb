{
 "cells": [
  {
   "cell_type": "markdown",
   "metadata": {},
   "source": [
    "Import libraries"
   ]
  },
  {
   "cell_type": "code",
   "execution_count": null,
   "metadata": {},
   "outputs": [],
   "source": []
  },
  {
   "cell_type": "code",
   "execution_count": 1,
   "metadata": {},
   "outputs": [],
   "source": [
    "import pandas as pd\n",
    "import os\n",
    "import numpy as np"
   ]
  },
  {
   "cell_type": "markdown",
   "metadata": {},
   "source": [
    "First load the excel sheet with three sheets which are:\n",
    "\n",
    "*   Parameters table\n",
    "*   Data table\n",
    "*   Population projection"
   ]
  },
  {
   "cell_type": "code",
   "execution_count": 13,
   "metadata": {},
   "outputs": [
    {
     "name": "stdout",
     "output_type": "stream",
     "text": [
      "     variable  s_n_men  w_s_men  s_n_women  w_s_women  age_1  age_2  age_3  \\\n",
      "0  employment    1.038        1      1.052          1  25-29  30-34  35-39   \n",
      "1     absence    0.790        1      0.790          1  20-24  25-29  30-34   \n",
      "2      cancer    0.990        1      0.990          1  15-19  20-24  25-29   \n",
      "3   mortality    0.900        1      0.820          1  20-24  25-29  30-34   \n",
      "\n",
      "   age_4  age_5  age_6  age_7  age_8  age_9 age_10 age_11 age_12  age_13  \\\n",
      "0  40-44    NaN    NaN    NaN    NaN    NaN    NaN    NaN    NaN     NaN   \n",
      "1  35-39  40-44  45-49  50-54  55-59  60-64  65-69  70-74  75-79  80-100   \n",
      "2  30-34  35-39  40-44  45-49  50-54  55-59  60-64  65-69  70-74   75-79   \n",
      "3  35-39  40-44  45-49  50-54  55-59  60-64  65-69  70-74  75-79  80-100   \n",
      "\n",
      "   age_14  \n",
      "0     NaN  \n",
      "1     NaN  \n",
      "2  80-100  \n",
      "3     NaN  \n",
      "   year    age sex        s1        s2        s3    population  mortality  \\\n",
      "0  2024  15-19   K  0.400000  0.363636  0.236364  1.131077e+06   0.000254   \n",
      "1  2024  15-19   M  0.457143  0.300000  0.242857  1.179683e+06   0.000450   \n",
      "2  2024  20-24   K  0.432432  0.252252  0.315315  1.363470e+06   0.000278   \n",
      "3  2024  20-24   M  0.539062  0.242188  0.218750  1.414776e+06   0.000826   \n",
      "4  2024  25-29   K  0.568421  0.168421  0.263158  1.614628e+06   0.000326   \n",
      "\n",
      "   employment  working  absence  cancer  \n",
      "0         0.5      0.5      0.5     0.5  \n",
      "1         0.5      0.5      0.5     0.5  \n",
      "2         0.5      0.5      0.5     0.5  \n",
      "3         0.5      0.5      0.5     0.5  \n",
      "4         0.5      0.5      0.5     0.5  \n"
     ]
    }
   ],
   "source": [
    "os.chdir(r'C:\\Users\\mkrzakala\\OneDrive - IBS\\BENEFIT PROJEKT\\analiza\\simulation')\n",
    "parameters_df = pd.read_excel('Input.xlsx', sheet_name='parameters')\n",
    "data_df = pd.read_excel('Input.xlsx', sheet_name='data_2024')\n",
    "\n",
    "print(parameters_df.head())\n",
    "print(data_df.head())\n",
    "df = data_df"
   ]
  },
  {
   "cell_type": "markdown",
   "metadata": {},
   "source": [
    "Now calculate the baseline values for each variable"
   ]
  },
  {
   "cell_type": "code",
   "execution_count": 14,
   "metadata": {},
   "outputs": [],
   "source": [
    "df[\"absence_pc\"] = df[\"absence\"]/df[\"working\"]"
   ]
  },
  {
   "cell_type": "code",
   "execution_count": 15,
   "metadata": {},
   "outputs": [],
   "source": [
    "age_groups_20_64 = [\n",
    "    \"20-24\", \"25-29\", \"30-34\", \"35-39\", \"40-44\",\n",
    "    \"45-49\", \"50-54\", \"55-59\", \"60-64\"\n",
    "]\n",
    "\n",
    "# Create new column with population where age group is in 20–64 range, otherwise NaN\n",
    "df[\"population_20_64\"] = df.apply(\n",
    "    lambda row: row[\"population\"] if row[\"age\"] in age_groups_20_64 else 0,\n",
    "    axis=1\n",
    ")"
   ]
  },
  {
   "cell_type": "markdown",
   "metadata": {},
   "source": [
    "prepare parameter values"
   ]
  },
  {
   "cell_type": "code",
   "execution_count": 16,
   "metadata": {},
   "outputs": [
    {
     "name": "stdout",
     "output_type": "stream",
     "text": [
      "employment\n",
      "absence\n",
      "cancer\n",
      "mortality\n"
     ]
    }
   ],
   "source": [
    "for _, row in parameters_df.iterrows():\n",
    "    print(row['variable'])"
   ]
  },
  {
   "cell_type": "code",
   "execution_count": 17,
   "metadata": {},
   "outputs": [],
   "source": [
    "# First, get a list of age column names from df_params\n",
    "age_cols = [col for col in parameters_df.columns if col.startswith(\"age_\")]\n",
    "\n",
    "# For each variable (row) in df_params\n",
    "for _, row in parameters_df.iterrows():\n",
    "    variable = row[\"variable\"]\n",
    "    valid_ages = row[age_cols].dropna().tolist()  # list of age groups for this variable\n",
    "\n",
    "    # Prepare output column names\n",
    "    col_s_n = f\"{variable}_s_n\"\n",
    "    col_w_s = f\"{variable}_w_s\"\n",
    "\n",
    "    # Initialize with default value 1\n",
    "    df[col_s_n] = 1.0\n",
    "    df[col_w_s] = 1.0\n",
    "\n",
    "    # Apply s_n value (static) based on age and sex\n",
    "    df.loc[(df[\"sex\"] == \"M\") & (df[\"age\"].isin(valid_ages)), col_s_n] = row[\"s_n_men\"]\n",
    "    df.loc[(df[\"sex\"] == \"K\") & (df[\"age\"].isin(valid_ages)), col_s_n] = row[\"s_n_women\"]\n",
    "\n",
    "    # Apply w_s value (dynamic) based on age and sex\n",
    "    df.loc[(df[\"sex\"] == \"M\") & (df[\"age\"].isin(valid_ages)), col_w_s] = row[\"w_s_men\"]\n",
    "    df.loc[(df[\"sex\"] == \"K\") & (df[\"age\"].isin(valid_ages)), col_w_s] = row[\"w_s_women\"]\n"
   ]
  },
  {
   "cell_type": "markdown",
   "metadata": {},
   "source": [
    "Assign Shock that 50% of inactive goes to active (half to s2 and half to s3)"
   ]
  },
  {
   "cell_type": "code",
   "execution_count": 33,
   "metadata": {},
   "outputs": [],
   "source": [
    "df['s1_as'] = df['s1'] - 0.1\n",
    "df['s2_as'] = df['s2'] + 0.1 \n",
    "df['s3_as'] = df['s3']"
   ]
  },
  {
   "cell_type": "code",
   "execution_count": 35,
   "metadata": {},
   "outputs": [],
   "source": [
    "list = [\"mortality\", \"employment\", \"absence\", \"cancer\"]\n",
    "\n",
    "\n",
    "for idx, i in enumerate(list):\n",
    "    name = i+\"_s1\"\n",
    "\n",
    "    df[i+\"_denominator\"] = df.s1 + df.s2 * df[i + \"_s_n\"] + df.s3 * df[i + \"_s_n\"] * df[i + \"_w_s\"]\n",
    "    df[i+\"_s1\"] = df[i] / df[i+\"_denominator\"]\n",
    "    df[i+\"_s2\"] = df[i+\"_s1\"] * df[i + \"_s_n\"]\n",
    "    df[i+\"_s3\"] = df[i+\"_s2\"] * df[i + \"_w_s\"]\n",
    "    \n",
    "    df[i+\"_bs\"] = df['s1'] * df[i+\"_s1\"] + df['s2'] * df[i+\"_s2\"] + df['s3'] * df[i+\"_s3\"]\n",
    "    df[i+\"_as\"] = df['s1_as'] * df[i+\"_s1\"] + df['s2_as'] * df[i+\"_s2\"] + df['s3_as'] * df[i+\"_s3\"]"
   ]
  },
  {
   "cell_type": "markdown",
   "metadata": {},
   "source": [
    "Now calculate the theoretical values of all variables based on given parameters"
   ]
  },
  {
   "cell_type": "markdown",
   "metadata": {},
   "source": [
    "Now we want to calculate the averages/sums for the population\n",
    "\n",
    "For Mortality weighted average by demographic group size, for employment rate weighted average by number of working people, for absence simple sum, for cancer average by population"
   ]
  },
  {
   "cell_type": "code",
   "execution_count": 36,
   "metadata": {},
   "outputs": [],
   "source": [
    "data = {\n",
    "    \"name\": [\"mortality\", \"employment\", \"absence\", \"cancer\"],\n",
    "    \"type\": [\"average\", \"average\", \"sum\", \"average\"],\n",
    "    \"weight\": [\"population\", \"population_20_64\", \"na\", \"population\"]\n",
    "}\n",
    "\n",
    "# Create the DataFrame\n",
    "results = pd.DataFrame(data)"
   ]
  },
  {
   "cell_type": "code",
   "execution_count": 38,
   "metadata": {},
   "outputs": [],
   "source": [
    "for idx, row in results.iterrows():\n",
    "    name = row[\"name\"]\n",
    "    agg_type = row[\"type\"]\n",
    "    weight_key = row[\"weight\"]\n",
    "\n",
    "    if agg_type == \"sum\":\n",
    "        result_bs = sum(df[name + '_bs'])\n",
    "        result_as = sum(df[name + '_as'])\n",
    "    elif agg_type == \"average\":\n",
    "        if weight_key != \"na\":\n",
    "            w = df[weight_key]\n",
    "            v_bs = df[name + '_bs']\n",
    "            v_as = df[name + '_as']\n",
    "            result_bs = np.average(v_bs, weights=w)\n",
    "            result_as = np.average(v_as, weights=w)\n",
    "\n",
    "        else:\n",
    "            result = \"n/a\"\n",
    "    else:\n",
    "        result = \"n/a\"\n",
    "\n",
    "    results.at[idx, \"result_bs\"] = result_bs\n",
    "    results.at[idx, \"result_as\"] = result_as\n",
    "\n",
    "results.to_excel(\"output.xlsx\", index=False)"
   ]
  }
 ],
 "metadata": {
  "kernelspec": {
   "display_name": "Python 3",
   "language": "python",
   "name": "python3"
  },
  "language_info": {
   "codemirror_mode": {
    "name": "ipython",
    "version": 3
   },
   "file_extension": ".py",
   "mimetype": "text/x-python",
   "name": "python",
   "nbconvert_exporter": "python",
   "pygments_lexer": "ipython3",
   "version": "3.13.3"
  }
 },
 "nbformat": 4,
 "nbformat_minor": 2
}
